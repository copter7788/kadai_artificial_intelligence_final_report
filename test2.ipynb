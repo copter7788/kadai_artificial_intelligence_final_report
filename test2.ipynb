{
 "cells": [
  {
   "cell_type": "markdown",
   "id": "6143c3ac",
   "metadata": {},
   "source": [
    "# 人工知能\u000b期末レポート (問題5)\n",
    "### 学籍番号：2358123\n",
    "### 名前：Smittiviroj Thanakorn\n"
   ]
  },
  {
   "cell_type": "markdown",
   "id": "bc23bfec",
   "metadata": {},
   "source": [
    "## import"
   ]
  },
  {
   "cell_type": "code",
   "execution_count": 4,
   "id": "b811190f",
   "metadata": {},
   "outputs": [],
   "source": [
    "import pandas as pd\n",
    "import re\n",
    "from sklearn.model_selection import train_test_split\n",
    "from sklearn.feature_extraction import text\n",
    "from sklearn.feature_extraction.text import TfidfVectorizer\n",
    "from sklearn.svm import SVC\n",
    "from sklearn.metrics import accuracy_score, classification_report"
   ]
  },
  {
   "cell_type": "markdown",
   "id": "80db9e45",
   "metadata": {},
   "source": [
    "1. Load dataset"
   ]
  },
  {
   "cell_type": "code",
   "execution_count": 5,
   "id": "7f38fc9f",
   "metadata": {},
   "outputs": [],
   "source": [
    "df = pd.read_csv(\"spam_ham_dataset.csv\")"
   ]
  },
  {
   "cell_type": "markdown",
   "id": "d513f2dc",
   "metadata": {},
   "source": [
    "2. Define English stop words"
   ]
  },
  {
   "cell_type": "code",
   "execution_count": 6,
   "id": "527600ce",
   "metadata": {},
   "outputs": [],
   "source": [
    "stop_words = text.ENGLISH_STOP_WORDS"
   ]
  },
  {
   "cell_type": "markdown",
   "id": "b241f00c",
   "metadata": {},
   "source": [
    "3. Preprocessing function\n"
   ]
  },
  {
   "cell_type": "code",
   "execution_count": 7,
   "id": "762f7465",
   "metadata": {},
   "outputs": [],
   "source": [
    "def preprocess_email(text_input):\n",
    "    # Remove HTML tags\n",
    "    text_clean = re.sub(r'<.*?>', ' ', text_input)\n",
    "    # Remove punctuation, digits, and special characters\n",
    "    text_clean = re.sub(r'[^a-zA-Z\\s]', ' ', text_clean)\n",
    "    # Lowercase\n",
    "    text_clean = text_clean.lower()\n",
    "    # Remove extra whitespace\n",
    "    text_clean = re.sub(r'\\s+', ' ', text_clean).strip()\n",
    "    # Tokenization\n",
    "    tokens = text_clean.split()\n",
    "    # Remove stop words\n",
    "    tokens = [t for t in tokens if t not in stop_words]\n",
    "    return ' '.join(tokens)"
   ]
  },
  {
   "cell_type": "markdown",
   "id": "95fc711f",
   "metadata": {},
   "source": [
    "4. Apply preprocessing"
   ]
  },
  {
   "cell_type": "code",
   "execution_count": 8,
   "id": "4e95862d",
   "metadata": {},
   "outputs": [],
   "source": [
    "df['clean_text'] = df['text'].apply(preprocess_email)"
   ]
  },
  {
   "cell_type": "markdown",
   "id": "9a4e0afe",
   "metadata": {},
   "source": [
    "5. Prepare features and labels\n"
   ]
  },
  {
   "cell_type": "code",
   "execution_count": 9,
   "id": "860736d3",
   "metadata": {},
   "outputs": [],
   "source": [
    "X = df['clean_text']\n",
    "y = df['label_num']  # 0 = ham, 1 = spam"
   ]
  },
  {
   "cell_type": "markdown",
   "id": "f88f3a78",
   "metadata": {},
   "source": [
    "6. Split train/test (80% train, 20% test)\n"
   ]
  },
  {
   "cell_type": "code",
   "execution_count": 10,
   "id": "3daae6c7",
   "metadata": {},
   "outputs": [],
   "source": [
    "X_train, X_test, y_train, y_test = train_test_split(\n",
    "    X, y,\n",
    "    test_size=0.2,\n",
    "    stratify=y,\n",
    "    random_state=42\n",
    ")"
   ]
  },
  {
   "cell_type": "markdown",
   "id": "7a748153",
   "metadata": {},
   "source": [
    "7. TF-IDF vectorization"
   ]
  },
  {
   "cell_type": "code",
   "execution_count": 11,
   "id": "0af3a3f1",
   "metadata": {},
   "outputs": [],
   "source": [
    "vectorizer = TfidfVectorizer(max_df=0.9, min_df=5)\n",
    "X_train_vec = vectorizer.fit_transform(X_train)\n",
    "X_test_vec = vectorizer.transform(X_test)"
   ]
  },
  {
   "cell_type": "markdown",
   "id": "916228e1",
   "metadata": {},
   "source": [
    "8. Train SVM with RBF kernel\n"
   ]
  },
  {
   "cell_type": "code",
   "execution_count": 12,
   "id": "0245ac70",
   "metadata": {},
   "outputs": [
    {
     "data": {
      "text/html": [
       "<style>#sk-container-id-1 {color: black;}#sk-container-id-1 pre{padding: 0;}#sk-container-id-1 div.sk-toggleable {background-color: white;}#sk-container-id-1 label.sk-toggleable__label {cursor: pointer;display: block;width: 100%;margin-bottom: 0;padding: 0.3em;box-sizing: border-box;text-align: center;}#sk-container-id-1 label.sk-toggleable__label-arrow:before {content: \"▸\";float: left;margin-right: 0.25em;color: #696969;}#sk-container-id-1 label.sk-toggleable__label-arrow:hover:before {color: black;}#sk-container-id-1 div.sk-estimator:hover label.sk-toggleable__label-arrow:before {color: black;}#sk-container-id-1 div.sk-toggleable__content {max-height: 0;max-width: 0;overflow: hidden;text-align: left;background-color: #f0f8ff;}#sk-container-id-1 div.sk-toggleable__content pre {margin: 0.2em;color: black;border-radius: 0.25em;background-color: #f0f8ff;}#sk-container-id-1 input.sk-toggleable__control:checked~div.sk-toggleable__content {max-height: 200px;max-width: 100%;overflow: auto;}#sk-container-id-1 input.sk-toggleable__control:checked~label.sk-toggleable__label-arrow:before {content: \"▾\";}#sk-container-id-1 div.sk-estimator input.sk-toggleable__control:checked~label.sk-toggleable__label {background-color: #d4ebff;}#sk-container-id-1 div.sk-label input.sk-toggleable__control:checked~label.sk-toggleable__label {background-color: #d4ebff;}#sk-container-id-1 input.sk-hidden--visually {border: 0;clip: rect(1px 1px 1px 1px);clip: rect(1px, 1px, 1px, 1px);height: 1px;margin: -1px;overflow: hidden;padding: 0;position: absolute;width: 1px;}#sk-container-id-1 div.sk-estimator {font-family: monospace;background-color: #f0f8ff;border: 1px dotted black;border-radius: 0.25em;box-sizing: border-box;margin-bottom: 0.5em;}#sk-container-id-1 div.sk-estimator:hover {background-color: #d4ebff;}#sk-container-id-1 div.sk-parallel-item::after {content: \"\";width: 100%;border-bottom: 1px solid gray;flex-grow: 1;}#sk-container-id-1 div.sk-label:hover label.sk-toggleable__label {background-color: #d4ebff;}#sk-container-id-1 div.sk-serial::before {content: \"\";position: absolute;border-left: 1px solid gray;box-sizing: border-box;top: 0;bottom: 0;left: 50%;z-index: 0;}#sk-container-id-1 div.sk-serial {display: flex;flex-direction: column;align-items: center;background-color: white;padding-right: 0.2em;padding-left: 0.2em;position: relative;}#sk-container-id-1 div.sk-item {position: relative;z-index: 1;}#sk-container-id-1 div.sk-parallel {display: flex;align-items: stretch;justify-content: center;background-color: white;position: relative;}#sk-container-id-1 div.sk-item::before, #sk-container-id-1 div.sk-parallel-item::before {content: \"\";position: absolute;border-left: 1px solid gray;box-sizing: border-box;top: 0;bottom: 0;left: 50%;z-index: -1;}#sk-container-id-1 div.sk-parallel-item {display: flex;flex-direction: column;z-index: 1;position: relative;background-color: white;}#sk-container-id-1 div.sk-parallel-item:first-child::after {align-self: flex-end;width: 50%;}#sk-container-id-1 div.sk-parallel-item:last-child::after {align-self: flex-start;width: 50%;}#sk-container-id-1 div.sk-parallel-item:only-child::after {width: 0;}#sk-container-id-1 div.sk-dashed-wrapped {border: 1px dashed gray;margin: 0 0.4em 0.5em 0.4em;box-sizing: border-box;padding-bottom: 0.4em;background-color: white;}#sk-container-id-1 div.sk-label label {font-family: monospace;font-weight: bold;display: inline-block;line-height: 1.2em;}#sk-container-id-1 div.sk-label-container {text-align: center;}#sk-container-id-1 div.sk-container {/* jupyter's `normalize.less` sets `[hidden] { display: none; }` but bootstrap.min.css set `[hidden] { display: none !important; }` so we also need the `!important` here to be able to override the default hidden behavior on the sphinx rendered scikit-learn.org. See: https://github.com/scikit-learn/scikit-learn/issues/21755 */display: inline-block !important;position: relative;}#sk-container-id-1 div.sk-text-repr-fallback {display: none;}</style><div id=\"sk-container-id-1\" class=\"sk-top-container\"><div class=\"sk-text-repr-fallback\"><pre>SVC(probability=True, random_state=42)</pre><b>In a Jupyter environment, please rerun this cell to show the HTML representation or trust the notebook. <br />On GitHub, the HTML representation is unable to render, please try loading this page with nbviewer.org.</b></div><div class=\"sk-container\" hidden><div class=\"sk-item\"><div class=\"sk-estimator sk-toggleable\"><input class=\"sk-toggleable__control sk-hidden--visually\" id=\"sk-estimator-id-1\" type=\"checkbox\" checked><label for=\"sk-estimator-id-1\" class=\"sk-toggleable__label sk-toggleable__label-arrow\">SVC</label><div class=\"sk-toggleable__content\"><pre>SVC(probability=True, random_state=42)</pre></div></div></div></div></div>"
      ],
      "text/plain": [
       "SVC(probability=True, random_state=42)"
      ]
     },
     "execution_count": 12,
     "metadata": {},
     "output_type": "execute_result"
    }
   ],
   "source": [
    "model = SVC(kernel='rbf', gamma='scale', C=1.0, probability=True, random_state=42)\n",
    "model.fit(X_train_vec, y_train)"
   ]
  },
  {
   "cell_type": "markdown",
   "id": "b05bd277",
   "metadata": {},
   "source": [
    "9. Evaluate on test set\n"
   ]
  },
  {
   "cell_type": "code",
   "execution_count": 13,
   "id": "8cc15300",
   "metadata": {},
   "outputs": [
    {
     "name": "stdout",
     "output_type": "stream",
     "text": [
      "Test Accuracy: 0.9893719806763285\n",
      "              precision    recall  f1-score   support\n",
      "\n",
      "         ham       1.00      0.99      0.99       735\n",
      "        spam       0.97      0.99      0.98       300\n",
      "\n",
      "    accuracy                           0.99      1035\n",
      "   macro avg       0.98      0.99      0.99      1035\n",
      "weighted avg       0.99      0.99      0.99      1035\n",
      "\n"
     ]
    }
   ],
   "source": [
    "y_pred = model.predict(X_test_vec)\n",
    "print(\"Test Accuracy:\", accuracy_score(y_test, y_pred))\n",
    "print(classification_report(y_test, y_pred, target_names=['ham', 'spam']))"
   ]
  },
  {
   "cell_type": "markdown",
   "id": "4acd5ece",
   "metadata": {},
   "source": [
    "10. Test"
   ]
  },
  {
   "cell_type": "code",
   "execution_count": null,
   "id": "7f8ae75b",
   "metadata": {},
   "outputs": [
    {
     "name": "stdout",
     "output_type": "stream",
     "text": [
      "text: Congratulations! You've won a free ticket. Click here to claim.\n",
      "predict: spam (accuracy: 0.99)\n"
     ]
    }
   ],
   "source": [
    "# 10. test model\n",
    "def predict_spam(text_input):\n",
    "    clean = preprocess_email(text_input)\n",
    "    vec = vectorizer.transform([clean])\n",
    "    \n",
    "    # predict\n",
    "    pred = model.predict(vec)[0]\n",
    "    prob = model.predict_proba(vec)[0][pred]\n",
    "    label = 'spam' if pred == 1 else 'ham'\n",
    "    return label, prob\n",
    "\n",
    "# use model\n",
    "test_text = \"Congratulations! You've won a free ticket. Click here to claim.\"\n",
    "label, prob = predict_spam(test_text)\n",
    "print(f\"text: {test_text}\")\n",
    "print(f\"predict: {label} (accuracy: {prob:.2f})\")"
   ]
  },
  {
   "cell_type": "markdown",
   "id": "5b75d658",
   "metadata": {},
   "source": [
    "> **注意:**  \n",
    "> このコードではテストセットで約99%の精度が得られていますが、使用しているデータセットは限られたサンプル数のため、実際の汎化性能が高いとは限りません。  \n",
    "> あくまでも動作確認用の簡易シミュレーションである点にご留意ください。"
   ]
  }
 ],
 "metadata": {
  "kernelspec": {
   "display_name": "Python 3",
   "language": "python",
   "name": "python3"
  },
  "language_info": {
   "codemirror_mode": {
    "name": "ipython",
    "version": 3
   },
   "file_extension": ".py",
   "mimetype": "text/x-python",
   "name": "python",
   "nbconvert_exporter": "python",
   "pygments_lexer": "ipython3",
   "version": "3.11.13"
  }
 },
 "nbformat": 4,
 "nbformat_minor": 5
}
